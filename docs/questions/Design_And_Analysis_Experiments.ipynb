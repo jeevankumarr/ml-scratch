{
 "cells": [
  {
   "cell_type": "markdown",
   "metadata": {},
   "source": [
    "# Design and Analyses of experiments"
   ]
  },
  {
   "cell_type": "markdown",
   "metadata": {},
   "source": [
    "## Introduction"
   ]
  },
  {
   "cell_type": "markdown",
   "metadata": {},
   "source": [
    "## Simple Comparitive Experiments"
   ]
  },
  {
   "cell_type": "markdown",
   "metadata": {},
   "source": [
    "### Import code"
   ]
  },
  {
   "cell_type": "code",
   "execution_count": 86,
   "metadata": {},
   "outputs": [],
   "source": [
    "import pandas as pd\n",
    "import random\n",
    "import numpy as np\n",
    "import matplotlib.pyplot as plt\n",
    "import scipy.stats as stats\n",
    "%matplotlib inline"
   ]
  },
  {
   "cell_type": "code",
   "execution_count": 14,
   "metadata": {},
   "outputs": [],
   "source": [
    "portland_mortar_rows = [\n",
    "    { 'modified_mortar': 16.85, 'unmodified_mortar': 16.62},\n",
    "    { 'modified_mortar': 16.40, 'unmodified_mortar': 16.75},\n",
    "    { 'modified_mortar': 17.21, 'unmodified_mortar': 17.37},\n",
    "    { 'modified_mortar': 16.35, 'unmodified_mortar': 17.12},\n",
    "    { 'modified_mortar': 16.52, 'unmodified_mortar': 16.98},\n",
    "    { 'modified_mortar': 17.04, 'unmodified_mortar': 16.87},\n",
    "    { 'modified_mortar': 16.96, 'unmodified_mortar': 17.34},\n",
    "    { 'modified_mortar': 17.15, 'unmodified_mortar': 17.02},\n",
    "    { 'modified_mortar': 16.59, 'unmodified_mortar': 17.08},\n",
    "    { 'modified_mortar': 16.57, 'unmodified_mortar': 17.27},\n",
    "]\n",
    "df = pd.DataFrame(portland_mortar_rows)"
   ]
  },
  {
   "cell_type": "code",
   "execution_count": null,
   "metadata": {},
   "outputs": [],
   "source": []
  },
  {
   "cell_type": "code",
   "execution_count": 16,
   "metadata": {},
   "outputs": [
    {
     "data": {
      "text/plain": [
       "array([16.85, 16.4 , 17.21, 16.35, 16.52, 17.04, 16.96, 17.15, 16.59,\n",
       "       16.57])"
      ]
     },
     "execution_count": 16,
     "metadata": {},
     "output_type": "execute_result"
    }
   ],
   "source": [
    "df['modified_mortar'].values"
   ]
  },
  {
   "cell_type": "code",
   "execution_count": 23,
   "metadata": {},
   "outputs": [],
   "source": [
    "\n",
    "def resample(vals, size):\n",
    "    opt = []\n",
    "    for _ in range(size):\n",
    "        opt.append(random.choice(vals))\n",
    "#     print('l', len(opt))\n",
    "    return opt\n",
    "        "
   ]
  },
  {
   "cell_type": "markdown",
   "metadata": {},
   "source": [
    "### Raw Data"
   ]
  },
  {
   "cell_type": "code",
   "execution_count": 100,
   "metadata": {},
   "outputs": [
    {
     "data": {
      "text/html": [
       "<div>\n",
       "<style scoped>\n",
       "    .dataframe tbody tr th:only-of-type {\n",
       "        vertical-align: middle;\n",
       "    }\n",
       "\n",
       "    .dataframe tbody tr th {\n",
       "        vertical-align: top;\n",
       "    }\n",
       "\n",
       "    .dataframe thead th {\n",
       "        text-align: right;\n",
       "    }\n",
       "</style>\n",
       "<table border=\"1\" class=\"dataframe\">\n",
       "  <thead>\n",
       "    <tr style=\"text-align: right;\">\n",
       "      <th></th>\n",
       "      <th>modified_mortar</th>\n",
       "      <th>unmodified_mortar</th>\n",
       "    </tr>\n",
       "  </thead>\n",
       "  <tbody>\n",
       "    <tr>\n",
       "      <th>0</th>\n",
       "      <td>16.85</td>\n",
       "      <td>16.62</td>\n",
       "    </tr>\n",
       "    <tr>\n",
       "      <th>1</th>\n",
       "      <td>16.40</td>\n",
       "      <td>16.75</td>\n",
       "    </tr>\n",
       "    <tr>\n",
       "      <th>2</th>\n",
       "      <td>17.21</td>\n",
       "      <td>17.37</td>\n",
       "    </tr>\n",
       "    <tr>\n",
       "      <th>3</th>\n",
       "      <td>16.35</td>\n",
       "      <td>17.12</td>\n",
       "    </tr>\n",
       "    <tr>\n",
       "      <th>4</th>\n",
       "      <td>16.52</td>\n",
       "      <td>16.98</td>\n",
       "    </tr>\n",
       "    <tr>\n",
       "      <th>5</th>\n",
       "      <td>17.04</td>\n",
       "      <td>16.87</td>\n",
       "    </tr>\n",
       "    <tr>\n",
       "      <th>6</th>\n",
       "      <td>16.96</td>\n",
       "      <td>17.34</td>\n",
       "    </tr>\n",
       "    <tr>\n",
       "      <th>7</th>\n",
       "      <td>17.15</td>\n",
       "      <td>17.02</td>\n",
       "    </tr>\n",
       "    <tr>\n",
       "      <th>8</th>\n",
       "      <td>16.59</td>\n",
       "      <td>17.08</td>\n",
       "    </tr>\n",
       "    <tr>\n",
       "      <th>9</th>\n",
       "      <td>16.57</td>\n",
       "      <td>17.27</td>\n",
       "    </tr>\n",
       "  </tbody>\n",
       "</table>\n",
       "</div>"
      ],
      "text/plain": [
       "   modified_mortar  unmodified_mortar\n",
       "0            16.85              16.62\n",
       "1            16.40              16.75\n",
       "2            17.21              17.37\n",
       "3            16.35              17.12\n",
       "4            16.52              16.98\n",
       "5            17.04              16.87\n",
       "6            16.96              17.34\n",
       "7            17.15              17.02\n",
       "8            16.59              17.08\n",
       "9            16.57              17.27"
      ]
     },
     "execution_count": 100,
     "metadata": {},
     "output_type": "execute_result"
    }
   ],
   "source": [
    "df.head(100)"
   ]
  },
  {
   "cell_type": "code",
   "execution_count": 28,
   "metadata": {},
   "outputs": [
    {
     "data": {
      "image/png": "[encoded data removed]",
      "text/plain": [
       "<Figure size 432x288 with 1 Axes>"
      ]
     },
     "metadata": {
      "needs_background": "light"
     },
     "output_type": "display_data"
    }
   ],
   "source": [
    "fig, ax = plt.subplots(1,1)\n",
    "ax.hist(df['modified_mortar'].values, alpha=0.5)\n",
    "ax.hist(df['unmodified_mortar'].values, alpha=0.5)\n",
    "_ = 10"
   ]
  },
  {
   "cell_type": "markdown",
   "metadata": {},
   "source": [
    "### Sampling and Sampling Distributions"
   ]
  },
  {
   "cell_type": "markdown",
   "metadata": {},
   "source": [
    "__Discrete__  \n",
    "\n",
    "$y_{discrete}:  0 \\le p(y_j) \\le 1; \\forall y_j $\n",
    "  \n",
    "$\\sum_{\\forall y_j} p(y_j) = 1$\n",
    "\n",
    "__Continuous__  \n",
    "\n",
    "$y_{continuous}: p(a\\le y\\le b) = \\int_{a}^{b} f(y) \\space dy$  \n",
    "\n",
    "$\\int_{-\\infty}^{\\infty} f(y) \\space dy$  \n",
    "\n"
   ]
  },
  {
   "cell_type": "markdown",
   "metadata": {
    "heading_collapsed": true
   },
   "source": [
    "#### Mean, Variance, Expected Value"
   ]
  },
  {
   "cell_type": "markdown",
   "metadata": {
    "hidden": true
   },
   "source": [
    "#####  Mean and Expected Value\n",
    "\n",
    "__Discrete__  \n",
    "$$\\mu = E(y) = \\sum_{all \\space y}y \\space p(y)\\$$\n",
    "\n",
    "__Continuous__  \n",
    "\n",
    "$$ \\mu = E(y) = \\int_{-\\infty}^{\\infty} y \\space f(y)$$\n",
    "  \n",
    "  \n",
    "##### Variance\n",
    "__Discrete__\n",
    "$$\\sigma^2 = V(y) = E[(y-\\mu)^2]$$\n",
    "\n",
    "   \n",
    "##### Other Results\n",
    "1. $E(constant) = constant$  \n",
    "2. $E(y) = \\mu$  \n",
    "3. $E(c\\space y) = c \\mu$  \n",
    "4. $V(constant) = 0$  \n",
    "5. $V(y) = \\sigma^2$\n",
    "6. $V(cy) = c^2\\sigma^2$\n",
    "7. $E(y_1 + y_2) = \\mu_1 + \\mu_2$\n",
    "8. $V(y_1 + y_2) = V(y_1) + V(y_2) + 2 Cov(y_1, y_2)$\n",
    "    * $Cov(y_1, y_2) = E[(y_1 - \\mu_1) (y_2 - \\mu_2)]$\n",
    "9. $V(y_1 - y_2) = V(y_1) + V(y_2) - 2 Cov(y_1, y_2)$   \n",
    "10. $V(y_1 \\pm y_2) =  V(y_1) + V(y_2)$, when $y_1$ and $y_2$ are independent\n",
    "11. $E(y_1 \\cdot y_2) = E(y_1)\\cdot E(y_2) = \\mu_1 \\cdot \\mu_2$\n",
    "12. $E\\left( \\frac{y_1}{y_2} \\right)  \\ne \\frac{E(y_1)}{E(y_2}$"
   ]
  },
  {
   "cell_type": "markdown",
   "metadata": {},
   "source": [
    "#### Inference\n"
   ]
  },
  {
   "cell_type": "markdown",
   "metadata": {},
   "source": [
    "* The objective of statistical inference is to draw conclusions about a population using a sample from that population. \n",
    "* Most of the methods that we will study assume that random samples are used. \n",
    "* Statistic is any function on the observed sample that does not have any unknown parameters\n",
    "$$sample \\space mean = \\bar{y} = \\frac{\\sum_{i=1}^{n} y_i}{n}$$  \n",
    "$$sample \\space variance = S^2 = \\frac{\\sum_{i=1}^{n} (y_i - \\bar{y})^2}{n-1}$$  \n",
    "\n",
    "In general, an __estimator__ of an unknown parameter is a statistic that corresponds to that parameter. The point estimator is also a random variable. A particular numerical value of an estimator computed from sample data is called an __estimate__. \n",
    "\n",
    "Two important properties of an estimator are: \n",
    "1. Point estimator is unbiased. The long-run average or expected value of the point estimator should be equal to the parameter that is being estimated. \n",
    "2. An unbiased estimator should have minimum variance. The property states that minimum variance point estimator has a variance that is smaller than the variance of any other estimator of that parameter.   \n",
    "  \n",
    "$\\bar{y}$ is an unbiased estimator of $\\mu$:  \n",
    "\n",
    "$E(\\bar{y}) = E\\left( \\frac{\\sum_{i=1}^n y_i}{n}\\right)$  \n",
    "$E(\\bar{y}) = \\frac{1}{n}\\sum_{i=1}^n E(y_i)$  \n",
    "$E(\\bar{y}) = \\frac{1}{n}\\sum_{i=1}^n \\mu$  \n",
    "$E(\\bar{y}) = \\mu$  \n",
    "  \n",
    "Consider sample variance:  \n",
    "\n",
    "$E(S^2) = E\\left[ \\frac{\\sum_{i=1}^n (y_i - \\bar{y})^2}{n-1} \\right]$  \n",
    "$E(S^2) = \\frac{1}{n-1}E\\left[ \\sum_{i=1}^n (y_i - \\bar{y})^2 \\right]$  \n",
    "$E(S^2) = \\frac{1}{n-1}E\\left[ \\sum_{i=1}^n y_i^2 + \\bar{y}^2 - 2\\sum y_i\\bar{y}\\right]$  \n",
    "$E(S^2) = \\frac{1}{n-1}E\\left[ \\sum_{i=1}^n y_i^2 + \\bar{y}^2 - 2\\bar{y} n\\bar{y} \\right]$  \n",
    "$E(S^2) = \\frac{1}{n-1}E\\left[ \\sum_{i=1}^n y_i^2 - n\\bar{y}^2 \\right]$  \n",
    "$E(S^2) = \\frac{1}{n-1}\\sum_{i=1}^n (\\mu^2 + \\sigma^2) - n(\\mu^2 + \\sigma^2/n)$  \n",
    "$E(S^2) = \\frac{1}{n-1}(n-1)\\sigma^2$  \n"
   ]
  },
  {
   "cell_type": "markdown",
   "metadata": {
    "heading_collapsed": true
   },
   "source": [
    "#### Common Probability Distributions\n"
   ]
  },
  {
   "cell_type": "markdown",
   "metadata": {
    "hidden": true
   },
   "source": [
    "##### Normal Distribution  \n",
    "\n",
    "$$f(y) = \\frac{1}{\\sigma\\sqrt{2\\pi}} e^{-\\frac{1}{2} [(y-\\mu)/\\sigma]^2}$$\n",
    "$$-\\infty <\\mu <+\\infty \\space ; \\space \\sigma^2 > 0$$  \n",
    "\n",
    "Standard Normal Distribution = $\\mathcal{N} (0,1)$, where $\\mu=0$, $\\sigma=1$\n",
    "\n",
    "$$z=\\frac{y-\\mu}{\\sigma}$$  \n",
    "\n",
    "##### Chi-Square Distribution\n",
    "$$\\chi = z_1^2 + z_2^2 + ... + z_k^2$$  \n",
    "If $z_1, z_2, . . . , z_k$ are normally and independently distributed random variables with mean 0 and variance 1, abbreviated NID(0, 1). \n",
    "\n",
    "$$f(x) = \\frac{1}{2^{k/2} \\Gamma \\left( \\frac{k}{2}\\right) } x^{k/2} e^{-x/2}$$\n",
    "$$x>0$$\n",
    "##### t-distribution\n",
    "$$t_k = \\frac{z}{\\sqrt{\\chi_k^2 / k}}$$  \n",
    "$$f(t) = \\frac{\\Gamma[(k+1)/2]}{\\sqrt{k \\pi}\\space \\Gamma(k/2)} \\frac{1}{[t^2/k + 1]^{(k+1)/2}}$$  \n",
    "If $y_1, y_2, ...y_n$ is a random sample from the $\\mathcal{N}(\\mu,\\sigma^2)$\n",
    "$$t = \\frac{\\bar{y} - \\mu}{S/\\sqrt{n}}$$\n",
    "##### F distribution  \n",
    "\n",
    "$$F_{u, \\nu} = \\frac{X_u^2/u}{X_{\\nu}^2/\\nu}$$  \n",
    "$$h(x) = \\frac{\\Gamma\\left( \\frac{u+\\nu}{2} \\right) \\left( \\frac{u}{\\nu} \\right)^{u/2} x^{u/2 - 1} }{\\Gamma\\left( \\frac{u}{\\nu} \\right) \\Gamma\\left( \\frac{\\nu}{2} \\right) \\left[ \\frac{u}{\\nu} x + 1\\right]^{(u +\\nu)/2}}$$  \n",
    "As an example of a statistic that is distributed as F, suppose we have two independent normal populations with common variance $\\sigma^2$. If $y_{11}, y_{12}, . . . , y_{1n}$ is a random sample of $n_1$ observations from the first population, and if $y_{21}, y_{22}, . . . , y_{2n}$ is a random sample of $n_2$ observations from the second, then\n",
    "\n",
    "$$\\frac{S_1^2}{S_2^2} \\sim F_{n_1-1, n_2-1}$$"
   ]
  },
  {
   "cell_type": "markdown",
   "metadata": {
    "hidden": true
   },
   "source": [
    "\n",
    "The __Two-Sample t-Test__. \n",
    "Suppose that we could assume that the variances of tension bond strengths were identical for both mortar formulations. Then the appropriate test statistic to use for comparing two treatment means in the completely randomized design is\n",
    "\n",
    "$$t_0 = \\frac{\\bar{y_1} - \\bar{y_2}}{S_p \\sqrt{\\frac{1}{n_1} + \\frac{1}{n_2}}}$$  \n",
    "$$S_p = \\frac{(n_1 - 1)S_1^2 + (n_2 -1)S_2^2}{n_1 + n_2 - 2}$$  "
   ]
  },
  {
   "cell_type": "markdown",
   "metadata": {},
   "source": [
    "### Inferences About the Differences in Means, Randomized Designs"
   ]
  },
  {
   "cell_type": "code",
   "execution_count": 146,
   "metadata": {},
   "outputs": [],
   "source": [
    "def sample_variance(sample):\n",
    "    m = np.mean(sample)\n",
    "    s = 0.0\n",
    "    for val in sample:\n",
    "        s += np.power(val-m,2)\n",
    "    return s / (len(sample) - 1)\n",
    "\n",
    "def pooled_sample_variance(sample1, sample2):\n",
    "\n",
    "    n1, n2 = len(sample1), len(sample2)\n",
    "    s1, s2 = sample_variance(sample1), sample_variance(sample2)\n",
    "    sp = np.sqrt(((n1-1) * s1 + (n2-1) * s2 ) / (n1+n2-2))\n",
    "    return sp\n",
    "\n",
    "def ttest_eq_var_two_tail(sample1, sample2, alpha=0.05):\n",
    "    \n",
    "    n_s1, n_s2 = len(sample1), len(sample2)\n",
    "    \n",
    "    # calculate t-statistic\n",
    "    diff = (np.mean(sample1) - np.mean(sample2))*1.0\n",
    "    std_err = (pooled_sample_variance(sample1, sample2)*np.sqrt(1.0/n_s1 + 1.0/n_s2))\n",
    "    t_stat = diff / std_err\n",
    "\n",
    "    # calculate margin of error\n",
    "    t_standard = stats.t.ppf(1-alpha/2.0, n1+n2 -2)    \n",
    "    psv = pooled_sample_variance(sample1, sample2)\n",
    "    margin = t_standard * psv * np.sqrt(1.0/n_s1 + 1.0/n_s2)\n",
    "\n",
    "    l_ci, u_ci = diff - margin, diff + margin\n",
    "    \n",
    "    # calculate p value\n",
    "    p_val = stats.t.sf(np.abs(t_stat), n_s1+n_s2-1)*2\n",
    "    \n",
    "    return t_stat, l_ci, u_ci, p_val\n"
   ]
  },
  {
   "cell_type": "markdown",
   "metadata": {},
   "source": [
    "Null hypothesis is that the modified and the unmodified mortar have the same bond strength. \n",
    "$$H_0: \\mu_{mod} = \\mu_{unmod}$$\n",
    "$$H_1: \\mu_{mod} \\ne \\mu_{unmod}$$\n",
    "  \n",
    "Assuming equal variance, and random sample:\n",
    "$$t_0 = \\frac{\\bar{y}_1 - \\bar{y}_2 }{S_p\\sqrt{\\frac{1}{n_1} + \\frac{1}{n_2}}}$$"
   ]
  },
  {
   "cell_type": "code",
   "execution_count": 153,
   "metadata": {},
   "outputs": [
    {
     "data": {
      "text/html": [
       "<div>\n",
       "<style scoped>\n",
       "    .dataframe tbody tr th:only-of-type {\n",
       "        vertical-align: middle;\n",
       "    }\n",
       "\n",
       "    .dataframe tbody tr th {\n",
       "        vertical-align: top;\n",
       "    }\n",
       "\n",
       "    .dataframe thead th {\n",
       "        text-align: right;\n",
       "    }\n",
       "</style>\n",
       "<table border=\"1\" class=\"dataframe\">\n",
       "  <thead>\n",
       "    <tr style=\"text-align: right;\">\n",
       "      <th></th>\n",
       "      <th>N</th>\n",
       "      <th>mean</th>\n",
       "      <th>std_dev</th>\n",
       "    </tr>\n",
       "    <tr>\n",
       "      <th>treatment</th>\n",
       "      <th></th>\n",
       "      <th></th>\n",
       "      <th></th>\n",
       "    </tr>\n",
       "  </thead>\n",
       "  <tbody>\n",
       "    <tr>\n",
       "      <th>modified</th>\n",
       "      <td>10</td>\n",
       "      <td>16.764</td>\n",
       "      <td>0.316446</td>\n",
       "    </tr>\n",
       "    <tr>\n",
       "      <th>unmodified</th>\n",
       "      <td>10</td>\n",
       "      <td>17.042</td>\n",
       "      <td>0.247916</td>\n",
       "    </tr>\n",
       "  </tbody>\n",
       "</table>\n",
       "</div>"
      ],
      "text/plain": [
       "             N    mean   std_dev\n",
       "treatment                       \n",
       "modified    10  16.764  0.316446\n",
       "unmodified  10  17.042  0.247916"
      ]
     },
     "execution_count": 153,
     "metadata": {},
     "output_type": "execute_result"
    }
   ],
   "source": [
    "rows = []\n",
    "for sample, name in zip([y1, y2], ['modified', 'unmodified']):\n",
    "    row = { \n",
    "        'treatment': name, 'N': len(sample), \n",
    "        'mean': np.mean(sample),  \n",
    "        'std_dev': np.sqrt(sample_variance(sample)),\n",
    "        #'se_mean': np.sqrt(sample_variance(sample)/len(sample))\n",
    "    }\n",
    "    rows.append(row)\n",
    "    \n",
    "pd.DataFrame(rows).set_index('treatment')"
   ]
  },
  {
   "cell_type": "code",
   "execution_count": 147,
   "metadata": {},
   "outputs": [
    {
     "name": "stdout",
     "output_type": "stream",
     "text": [
      "t-statistic -2.1869 [-0.5451, -0.0109], p value: 0.0415\n"
     ]
    }
   ],
   "source": [
    "y1 = df['modified_mortar'].values\n",
    "y2 = df['unmodified_mortar'].values\n",
    "\n",
    "t_stat, low_ci, up_ci, p_val = ttest_eq_var_two_tail(y1, y2)\n",
    "\n",
    "print('t-statistic {:.4f} [{:.4f}, {:.4f}], p value: {:.4f}'.format(t_stat, low_ci, up_ci, p_val))"
   ]
  },
  {
   "cell_type": "markdown",
   "metadata": {},
   "source": [
    "**Checking Assumptions in the t-Test. **\n",
    "\n",
    "In using the t-test procedure we make the assumptions that \n",
    "1. **both samples are random samples that are drawn from independent populations that can be described by a normal distribution**, and that \n",
    "2. **the standard deviation or variances of both populations are equal.**\n",
    "\n",
    "The assumption of independence is critical, and if the run order is randomized (and, if appropriate, other experimental units and materials are selected at random), this assumption will usually be satisfied. The equal variance and normality assumptions are easy to check using a normal probability plot."
   ]
  },
  {
   "cell_type": "code",
   "execution_count": 99,
   "metadata": {},
   "outputs": [
    {
     "data": {
      "image/png": "[encoded data removed]",
      "text/plain": [
       "<Figure size 432x288 with 1 Axes>"
      ]
     },
     "metadata": {
      "needs_background": "light"
     },
     "output_type": "display_data"
    }
   ],
   "source": [
    "fig, ax = plt.subplots(1,1)\n",
    "_ = stats.probplot(y1, plot=plt)\n",
    "_ = stats.probplot(y2, plot=plt)"
   ]
  },
  {
   "cell_type": "markdown",
   "metadata": {},
   "source": [
    "If this assumption is violated, you should use the version of the t-test described in Two-Sample t-test with unequal variance. The supplemental text material has more information about checking assumptions on the t-test.\n",
    "\n"
   ]
  },
  {
   "cell_type": "markdown",
   "metadata": {},
   "source": [
    "**The Use of P-Values in Hypothesis Testing.**   \n",
    "One way to report the results of a hypothesis test is to state that the null hypothesis was or was not rejected at a specified p-value or level of significance. This is often called fixed significance level testing. For example, in the Portland cement mortar formulation above, we can say that H0 : $\\mu_1 = \\mu_2$ was rejected at the 0.05 level of significance. \n",
    "This statement of conclusions is often inadequate because it gives the decision maker no idea about whether the computed **value of the test statistic was just barely in the rejection region or whether it was very far into this region**. Furthermore, stating the results this way **imposes the predefined level of significance** on other users of the information. This approach may be unsatisfactory because some decision makers might be uncomfortable with the risks implied by $\\alpha=$0.05.\n",
    "\n",
    "**p-value definition:**  \n",
    "\n",
    "To avoid these difficulties, the p-value approach has been adopted widely in practice. \n",
    "* The p-value is the probability that the test statistic will take on a value that is at least as extreme as the observed value of the statistic when the null hypothesis $H_0$ is true. \n",
    "* More **formally**, we define the P-value as the smallest level of significance that would lead to rejection of the null hypothesis $H_0$.\n",
    "\n",
    "Thus, a p-value conveys much information about the weight of evidence against H0, and so a decision maker can draw a conclusion at any specified level of significance. \n",
    "\n",
    "It is customary to call the test statistic (and the data) significant when the null hypoth- esis H0 is rejected; \n",
    "\n",
    "therefore, we may think of the p-value as the smallest level $\\alpha$ at which the data are significant. Once the p-value is known, the decision maker can determine how significant the data are without the data analyst formally imposing a preselected level of significance.\n"
   ]
  },
  {
   "cell_type": "markdown",
   "metadata": {},
   "source": [
    "When assumptions are badly violated, the performance of the t-test will be affected. Generally, small to moderate violations of assumptions are not a major concern, but any **failure of the independence assumption** and strong indications of **non-normality** should not be ignored. \n",
    "\n",
    "Both the **significance level of the test** and the **ability to detect differences between the means** will be adversely affected by departures from assumptions. \n",
    "\n",
    "**How to solve?**  \n",
    "1. Transformations are one approach to dealing with this problem. \n",
    "2. Nonparametric hypothesis testing procedures can also be used if the observations come from non-normal populations"
   ]
  },
  {
   "cell_type": "code",
   "execution_count": 158,
   "metadata": {},
   "outputs": [
    {
     "data": {
      "text/html": [
       "<div>\n",
       "<style scoped>\n",
       "    .dataframe tbody tr th:only-of-type {\n",
       "        vertical-align: middle;\n",
       "    }\n",
       "\n",
       "    .dataframe tbody tr th {\n",
       "        vertical-align: top;\n",
       "    }\n",
       "\n",
       "    .dataframe thead th {\n",
       "        text-align: right;\n",
       "    }\n",
       "</style>\n",
       "<table border=\"1\" class=\"dataframe\">\n",
       "  <thead>\n",
       "    <tr style=\"text-align: right;\">\n",
       "      <th></th>\n",
       "      <th>muscle</th>\n",
       "      <th>nerve</th>\n",
       "    </tr>\n",
       "  </thead>\n",
       "  <tbody>\n",
       "    <tr>\n",
       "      <th>0</th>\n",
       "      <td>3900</td>\n",
       "      <td>6625</td>\n",
       "    </tr>\n",
       "    <tr>\n",
       "      <th>1</th>\n",
       "      <td>3500</td>\n",
       "      <td>6000</td>\n",
       "    </tr>\n",
       "    <tr>\n",
       "      <th>2</th>\n",
       "      <td>3450</td>\n",
       "      <td>5450</td>\n",
       "    </tr>\n",
       "    <tr>\n",
       "      <th>3</th>\n",
       "      <td>3200</td>\n",
       "      <td>5200</td>\n",
       "    </tr>\n",
       "    <tr>\n",
       "      <th>4</th>\n",
       "      <td>2980</td>\n",
       "      <td>5175</td>\n",
       "    </tr>\n",
       "    <tr>\n",
       "      <th>5</th>\n",
       "      <td>2800</td>\n",
       "      <td>4900</td>\n",
       "    </tr>\n",
       "    <tr>\n",
       "      <th>6</th>\n",
       "      <td>2500</td>\n",
       "      <td>4750</td>\n",
       "    </tr>\n",
       "    <tr>\n",
       "      <th>7</th>\n",
       "      <td>2400</td>\n",
       "      <td>4500</td>\n",
       "    </tr>\n",
       "    <tr>\n",
       "      <th>8</th>\n",
       "      <td>2200</td>\n",
       "      <td>3985</td>\n",
       "    </tr>\n",
       "    <tr>\n",
       "      <th>9</th>\n",
       "      <td>1200</td>\n",
       "      <td>900</td>\n",
       "    </tr>\n",
       "    <tr>\n",
       "      <th>10</th>\n",
       "      <td>1150</td>\n",
       "      <td>450</td>\n",
       "    </tr>\n",
       "    <tr>\n",
       "      <th>11</th>\n",
       "      <td>1130</td>\n",
       "      <td>2800</td>\n",
       "    </tr>\n",
       "  </tbody>\n",
       "</table>\n",
       "</div>"
      ],
      "text/plain": [
       "    muscle  nerve\n",
       "0     3900   6625\n",
       "1     3500   6000\n",
       "2     3450   5450\n",
       "3     3200   5200\n",
       "4     2980   5175\n",
       "5     2800   4900\n",
       "6     2500   4750\n",
       "7     2400   4500\n",
       "8     2200   3985\n",
       "9     1200    900\n",
       "10    1150    450\n",
       "11    1130   2800"
      ]
     },
     "execution_count": 158,
     "metadata": {},
     "output_type": "execute_result"
    }
   ],
   "source": [
    "norm_flu_rows = [\n",
    "    { 'nerve': 6625, 'muscle': 3900},\n",
    "    { 'nerve': 6000, 'muscle': 3500},\n",
    "    { 'nerve': 5450, 'muscle': 3450},\n",
    "    { 'nerve': 5200, 'muscle': 3200},\n",
    "    { 'nerve': 5175, 'muscle': 2980},\n",
    "    { 'nerve': 4900, 'muscle': 2800},\n",
    "    { 'nerve': 4750, 'muscle': 2500},\n",
    "    { 'nerve': 4500, 'muscle': 2400},\n",
    "    { 'nerve': 3985, 'muscle': 2200},\n",
    "    { 'nerve': 900, 'muscle': 1200},\n",
    "    { 'nerve': 450, 'muscle': 1150},\n",
    "    { 'nerve': 2800, 'muscle': 1130},\n",
    "]\n",
    "df = pd.DataFrame(norm_flu_rows)\n",
    "df"
   ]
  },
  {
   "cell_type": "code",
   "execution_count": null,
   "metadata": {},
   "outputs": [],
   "source": []
  },
  {
   "cell_type": "code",
   "execution_count": 163,
   "metadata": {},
   "outputs": [
    {
     "data": {
      "image/png": "[encoded data removed]",
      "text/plain": [
       "<Figure size 432x288 with 1 Axes>"
      ]
     },
     "metadata": {
      "needs_background": "light"
     },
     "output_type": "display_data"
    }
   ],
   "source": [
    "fig, ax = plt.subplots(1,1)\n",
    "_ = stats.probplot(df['nerve'], plot=plt)\n",
    "_ = stats.probplot(df['muscle'], plot=plt)"
   ]
  },
  {
   "cell_type": "markdown",
   "metadata": {},
   "source": [
    "Null hypothesis is that the modified and the unmodified mortar have the same bond strength. \n",
    "$$H_0: \\mu_{mod} = \\mu_{unmod}$$\n",
    "$$H_1: \\mu_{mod} \\ne \\mu_{unmod}$$\n",
    "  \n",
    "Assuming unequal variance, and random sample:\n",
    "$$t_0 = \\frac{\\bar{y}_1 - \\bar{y}_2 }{\\sqrt{\\frac{S_1^2}{n_1} + \\frac{S_2^2}{n_2}}}$$"
   ]
  },
  {
   "cell_type": "markdown",
   "metadata": {},
   "source": [
    "$$df = \\frac{\\left( \\frac{S_1^2}{n_1} + \\frac{S_2^2}{n_2} \\right)^2}{\\frac{(S_1^2/n_1)^2}{n_1 - 1} + \\frac{(S_2^2/n_2)^2}{n_2 - 1}}$$"
   ]
  },
  {
   "cell_type": "code",
   "execution_count": 210,
   "metadata": {},
   "outputs": [],
   "source": [
    "def degree_of_freedom(sample1, sample2):\n",
    "    n_s1, n_s2 = len(sample1), len(sample2)\n",
    "    s1, s2 = sample_variance(sample1), sample_variance(sample2)\n",
    "    \n",
    "    nr = np.power(s1/n_s1 + s2/n_s2, 2)\n",
    "    dr = np.power(s1/n_s1,2)/(n_s1 - 1) + np.power(s2/n_s2,2)/(n_s2 - 1)\n",
    "    return np.round(nr/dr,0)\n",
    "    \n",
    "def ttest_uneq_var_two_tail(sample1, sample2, alpha=0.05):\n",
    "    \n",
    "    n_s1, n_s2 = len(sample1), len(sample2)\n",
    "    s1, s2 = sample_variance(sample1), sample_variance(sample2)\n",
    "    deg_free = degree_of_freedom(sample1, sample2)\n",
    "    # calculate t-statistic\n",
    "    diff = (np.mean(sample1) - np.mean(sample2))*1.0\n",
    "    std_err = np.sqrt(s1/n_s1 + s2/n_s2)\n",
    "    t_stat = diff / std_err\n",
    "\n",
    "    # calculate margin of error\n",
    "    t_standard = stats.t.ppf(1-alpha/2.0, deg_free)    \n",
    "    margin = t_standard * std_err\n",
    "\n",
    "    l_ci, u_ci = diff - margin, diff + margin\n",
    "    \n",
    "    # calculate p value\n",
    "    p_val = stats.t.sf(np.abs(t_stat), deg_free)*2\n",
    "    \n",
    "    return t_stat, l_ci, u_ci, p_val, diff#, deg_free, diff, margin, std_err, t_standard\n"
   ]
  },
  {
   "cell_type": "code",
   "execution_count": 204,
   "metadata": {},
   "outputs": [
    {
     "data": {
      "text/html": [
       "<div>\n",
       "<style scoped>\n",
       "    .dataframe tbody tr th:only-of-type {\n",
       "        vertical-align: middle;\n",
       "    }\n",
       "\n",
       "    .dataframe tbody tr th {\n",
       "        vertical-align: top;\n",
       "    }\n",
       "\n",
       "    .dataframe thead th {\n",
       "        text-align: right;\n",
       "    }\n",
       "</style>\n",
       "<table border=\"1\" class=\"dataframe\">\n",
       "  <thead>\n",
       "    <tr style=\"text-align: right;\">\n",
       "      <th></th>\n",
       "      <th>N</th>\n",
       "      <th>mean</th>\n",
       "      <th>std_dev</th>\n",
       "    </tr>\n",
       "    <tr>\n",
       "      <th>treatment</th>\n",
       "      <th></th>\n",
       "      <th></th>\n",
       "      <th></th>\n",
       "    </tr>\n",
       "  </thead>\n",
       "  <tbody>\n",
       "    <tr>\n",
       "      <th>nerve</th>\n",
       "      <td>12</td>\n",
       "      <td>4227.916667</td>\n",
       "      <td>1917.991917</td>\n",
       "    </tr>\n",
       "    <tr>\n",
       "      <th>muscle</th>\n",
       "      <td>12</td>\n",
       "      <td>2534.166667</td>\n",
       "      <td>960.506101</td>\n",
       "    </tr>\n",
       "  </tbody>\n",
       "</table>\n",
       "</div>"
      ],
      "text/plain": [
       "            N         mean      std_dev\n",
       "treatment                              \n",
       "nerve      12  4227.916667  1917.991917\n",
       "muscle     12  2534.166667   960.506101"
      ]
     },
     "execution_count": 204,
     "metadata": {},
     "output_type": "execute_result"
    }
   ],
   "source": [
    "rows = []\n",
    "y1, y2 = df['nerve'].values, df['muscle'].values\n",
    "for sample, name in zip([y1, y2], ['nerve', 'muscle']):\n",
    "    row = { \n",
    "        'treatment': name, 'N': len(sample), \n",
    "        'mean': np.mean(sample),  \n",
    "        'std_dev': np.sqrt(sample_variance(sample)),\n",
    "        #'se_mean': np.sqrt(sample_variance(sample)/len(sample))\n",
    "    }\n",
    "    rows.append(row)\n",
    "    \n",
    "pd.DataFrame(rows).set_index('treatment')"
   ]
  },
  {
   "cell_type": "code",
   "execution_count": 209,
   "metadata": {},
   "outputs": [
    {
     "data": {
      "text/plain": [
       "(2.7352769763624623,\n",
       " 381.05310254335836,\n",
       " 3006.4468974566425,\n",
       " 0.014671236070412673)"
      ]
     },
     "execution_count": 209,
     "metadata": {},
     "output_type": "execute_result"
    }
   ],
   "source": [
    "ttest_uneq_var_two_tail(y1, y2)"
   ]
  },
  {
   "cell_type": "code",
   "execution_count": 199,
   "metadata": {},
   "outputs": [
    {
     "data": {
      "text/plain": [
       "4475.0588"
      ]
     },
     "execution_count": 199,
     "metadata": {},
     "output_type": "execute_result"
    }
   ],
   "source": [
    "1693.750+2.1199*1312"
   ]
  },
  {
   "cell_type": "code",
   "execution_count": null,
   "metadata": {},
   "outputs": [],
   "source": []
  },
  {
   "cell_type": "code",
   "execution_count": 212,
   "metadata": {},
   "outputs": [
    {
     "name": "stdout",
     "output_type": "stream",
     "text": [
      "t-statistic 2.7353 diff: 1693.7500 [381.0531, 3006.4469], p value: 0.0147\n"
     ]
    }
   ],
   "source": [
    "t_stat, lo_ci, up_ci, p_val, diff = ttest_uneq_var_two_tail(y1, y2)\n",
    "print('t-statistic {:.4f} diff: {:.4f} [{:.4f}, {:.4f}], p value: {:.4f}'.format(t_stat, diff, lo_ci, up_ci, p_val))\n",
    "\n"
   ]
  },
  {
   "cell_type": "markdown",
   "metadata": {},
   "source": [
    "#### The Case When $\\sigma_1^2$ and $\\sigma_2^2$  Are Known\n",
    "\n"
   ]
  },
  {
   "cell_type": "markdown",
   "metadata": {},
   "source": [
    "$$H_0: \\mu_1 = \\mu_2$$\n",
    "$$H_1: \\mu_1 \\ne \\mu_2$$\n",
    "may be tested using the following stat\n",
    "\n",
    "$$Z_0 = \\frac{\\bar{y}_1 - \\bar{y}_2}{\\sqrt{\\frac{\\sigma_1^2}{n_1} + \\frac{\\sigma_2^2}{n_2}}}$$"
   ]
  },
  {
   "cell_type": "markdown",
   "metadata": {},
   "source": [
    "#### Comparing a Single Mean to a Specified Value\n",
    "\n"
   ]
  },
  {
   "cell_type": "markdown",
   "metadata": {},
   "source": [
    "$$H_0: \\mu = \\mu_0$$\n",
    "$$H_1: \\mu \\ne \\mu_0$$\n",
    "may be tested using the following stat\n",
    "\n",
    "$$Z_0 = \\frac{\\bar{y} - \\mu_0}{\\sqrt{\\frac{\\sigma^2}{n} }}$$"
   ]
  },
  {
   "cell_type": "markdown",
   "metadata": {},
   "source": [
    "### Inferences About the Differences in Means, Paired Comparison Designs"
   ]
  },
  {
   "cell_type": "markdown",
   "metadata": {},
   "source": [
    "$$t_0 = \\frac{\\bar{d}}{S_d/\\sqrt{n}}$$"
   ]
  },
  {
   "cell_type": "markdown",
   "metadata": {
    "heading_collapsed": true
   },
   "source": [
    "### Inferences About the Variances of Normal Distributions"
   ]
  },
  {
   "cell_type": "markdown",
   "metadata": {},
   "source": [
    "## Experiments with a Single Factor: The Analysis of Variance"
   ]
  },
  {
   "cell_type": "markdown",
   "metadata": {
    "heading_collapsed": true
   },
   "source": [
    "### An Example"
   ]
  },
  {
   "cell_type": "markdown",
   "metadata": {},
   "source": [
    "### The Analysis of Variance"
   ]
  },
  {
   "cell_type": "markdown",
   "metadata": {},
   "source": [
    "### Model Adequecy Checking"
   ]
  },
  {
   "cell_type": "markdown",
   "metadata": {},
   "source": [
    "### Practical Interpretation of Results"
   ]
  },
  {
   "cell_type": "markdown",
   "metadata": {},
   "source": [
    "### Sample Output"
   ]
  },
  {
   "cell_type": "markdown",
   "metadata": {},
   "source": [
    "### Determinining Sample Size"
   ]
  },
  {
   "cell_type": "markdown",
   "metadata": {},
   "source": [
    "### OTHER EXAMPLES OF SINGLE-FACTOR EXPERIMENTS"
   ]
  },
  {
   "cell_type": "markdown",
   "metadata": {
    "heading_collapsed": true
   },
   "source": [
    "### THE RANDOM EFFECTS MODEL"
   ]
  },
  {
   "cell_type": "markdown",
   "metadata": {},
   "source": [
    "### THE REGRESSION APPROACH TO THE ANALYSIS OF VARIANCE"
   ]
  },
  {
   "cell_type": "markdown",
   "metadata": {},
   "source": [
    "### NON-PARAMETRIC METHODS IN THE ANALYSIS OF VARIANCE"
   ]
  },
  {
   "cell_type": "markdown",
   "metadata": {},
   "source": [
    "## Randomized Blocks, Latin Squares, and Related Designs\n"
   ]
  },
  {
   "cell_type": "markdown",
   "metadata": {},
   "source": [
    "### THE RANDOMIZED COMPLETE BLOCK DESIGN"
   ]
  },
  {
   "cell_type": "markdown",
   "metadata": {},
   "source": [
    "### THE LATIN SQUARE DESIGN\n"
   ]
  },
  {
   "cell_type": "markdown",
   "metadata": {},
   "source": [
    "### THE GRAECO-LATIN SQUARE DESIGN"
   ]
  },
  {
   "cell_type": "markdown",
   "metadata": {},
   "source": [
    "### BALANCED INCOMPLETE BLOCK DESIGNS"
   ]
  },
  {
   "cell_type": "code",
   "execution_count": null,
   "metadata": {},
   "outputs": [],
   "source": []
  },
  {
   "cell_type": "code",
   "execution_count": null,
   "metadata": {},
   "outputs": [],
   "source": []
  },
  {
   "cell_type": "code",
   "execution_count": null,
   "metadata": {},
   "outputs": [],
   "source": []
  },
  {
   "cell_type": "code",
   "execution_count": null,
   "metadata": {},
   "outputs": [],
   "source": []
  },
  {
   "cell_type": "code",
   "execution_count": null,
   "metadata": {},
   "outputs": [],
   "source": []
  },
  {
   "cell_type": "code",
   "execution_count": null,
   "metadata": {},
   "outputs": [],
   "source": []
  },
  {
   "cell_type": "code",
   "execution_count": null,
   "metadata": {},
   "outputs": [],
   "source": []
  },
  {
   "cell_type": "code",
   "execution_count": null,
   "metadata": {},
   "outputs": [],
   "source": []
  },
  {
   "cell_type": "code",
   "execution_count": null,
   "metadata": {},
   "outputs": [],
   "source": []
  }
 ],
 "metadata": {
  "kernelspec": {
   "display_name": "Python 3",
   "language": "python",
   "name": "python3"
  },
  "language_info": {
   "codemirror_mode": {
    "name": "ipython",
    "version": 3
   },
   "file_extension": ".py",
   "mimetype": "text/x-python",
   "name": "python",
   "nbconvert_exporter": "python",
   "pygments_lexer": "ipython3",
   "version": "3.5.6"
  },
  "toc": {
   "base_numbering": 1,
   "nav_menu": {},
   "number_sections": true,
   "sideBar": true,
   "skip_h1_title": true,
   "title_cell": "Table of Contents",
   "title_sidebar": "Contents",
   "toc_cell": false,
   "toc_position": {
    "height": "calc(100% - 180px)",
    "left": "10px",
    "top": "150px",
    "width": "165px"
   },
   "toc_section_display": true,
   "toc_window_display": true
  }
 },
 "nbformat": 4,
 "nbformat_minor": 2
}
